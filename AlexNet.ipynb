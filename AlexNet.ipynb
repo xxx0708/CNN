{
  "nbformat": 4,
  "nbformat_minor": 5,
  "metadata": {
    "kernelspec": {
      "display_name": "Python 3 (ipykernel)",
      "language": "python",
      "name": "python3"
    },
    "language_info": {
      "codemirror_mode": {
        "name": "ipython",
        "version": 3
      },
      "file_extension": ".py",
      "mimetype": "text/x-python",
      "name": "python",
      "nbconvert_exporter": "python",
      "pygments_lexer": "ipython3",
      "version": "3.8.11"
    },
    "colab": {
      "name": "AlexNet.ipynb",
      "provenance": [],
      "include_colab_link": true
    },
    "accelerator": "GPU"
  },
  "cells": [
    {
      "cell_type": "markdown",
      "metadata": {
        "id": "view-in-github",
        "colab_type": "text"
      },
      "source": [
        "<a href=\"https://colab.research.google.com/github/xxx0708/CNN/blob/main/AlexNet.ipynb\" target=\"_parent\"><img src=\"https://colab.research.google.com/assets/colab-badge.svg\" alt=\"Open In Colab\"/></a>"
      ]
    },
    {
      "cell_type": "code",
      "metadata": {
        "colab": {
          "base_uri": "https://localhost:8080/"
        },
        "id": "53b25ebf",
        "outputId": "374d6737-3b8b-4488-af12-9ef05b97cb46"
      },
      "source": [
        "import torch\n",
        "import torch.nn as nn\n",
        "import torchvision\n",
        "from torchvision import transforms, datasets\n",
        "from PIL import Image\n",
        "import matplotlib.pyplot as plt\n",
        "\n",
        "\n",
        "import os\n",
        "import json\n",
        "device = torch.device(\"cuda:0\" if torch.cuda.is_available() else \"cpu\")\n",
        "print(\"using {} device.\".format(device))"
      ],
      "id": "53b25ebf",
      "execution_count": 24,
      "outputs": [
        {
          "output_type": "stream",
          "name": "stdout",
          "text": [
            "using cuda:0 device.\n"
          ]
        }
      ]
    },
    {
      "cell_type": "code",
      "metadata": {
        "id": "db34a4df"
      },
      "source": [
        "# 设置transforms\n",
        "transform = transforms.Compose([transforms.RandomResizedCrop(224),\n",
        "                                transforms.RandomHorizontalFlip(),\n",
        "                                transforms.ToTensor(), # numpy -> Tensor\n",
        "                                transforms.Normalize((0.5, 0.5, 0.5),(0.5, 0.5, 0.5)) # 归一化，范围[-1, 1]\n",
        "])"
      ],
      "id": "db34a4df",
      "execution_count": 25,
      "outputs": []
    },
    {
      "cell_type": "code",
      "metadata": {
        "colab": {
          "base_uri": "https://localhost:8080/"
        },
        "id": "36b9c044",
        "outputId": "63247392-4969-48d3-813c-a002275a79b7"
      },
      "source": [
        "# 下载数据集\n",
        "# 训练集\n",
        "trainset = datasets.CIFAR10(root='./CIFAR10', train=True, download=True, transform=transform)\n",
        "# 测试集\n",
        "testset = datasets.CIFAR10(root='./CIFAR10', train=False, download=True, transform=transform)"
      ],
      "id": "36b9c044",
      "execution_count": 26,
      "outputs": [
        {
          "output_type": "stream",
          "name": "stdout",
          "text": [
            "Files already downloaded and verified\n",
            "Files already downloaded and verified\n"
          ]
        }
      ]
    },
    {
      "cell_type": "code",
      "metadata": {
        "colab": {
          "base_uri": "https://localhost:8080/"
        },
        "id": "45877339",
        "outputId": "6a728a3b-4dba-43b5-e212-d412566a078b"
      },
      "source": [
        "# 批量读取数据\n",
        "from torch.utils.data.dataloader import DataLoader\n",
        "\n",
        "BATCH_SIZE = 128\n",
        "\n",
        "train_loader = DataLoader(trainset, batch_size=BATCH_SIZE, shuffle=True, num_workers=16, pin_memory=True)\n",
        "\n",
        "test_loader = DataLoader(testset, batch_size=BATCH_SIZE, shuffle=True, num_workers=16, pin_memory=True)"
      ],
      "id": "45877339",
      "execution_count": 27,
      "outputs": [
        {
          "output_type": "stream",
          "name": "stderr",
          "text": [
            "/usr/local/lib/python3.7/dist-packages/torch/utils/data/dataloader.py:481: UserWarning: This DataLoader will create 16 worker processes in total. Our suggested max number of worker in current system is 2, which is smaller than what this DataLoader is going to create. Please be aware that excessive worker creation might get DataLoader running slow or even freeze, lower the worker number to avoid potential slowness/freeze if necessary.\n",
            "  cpuset_checked))\n"
          ]
        }
      ]
    },
    {
      "cell_type": "code",
      "metadata": {
        "colab": {
          "base_uri": "https://localhost:8080/",
          "height": 378
        },
        "id": "6ae36301",
        "outputId": "af8fda83-ded4-43ee-8125-156f46b6b3c8"
      },
      "source": [
        "# 可视化显示\n",
        "import matplotlib.pyplot as plt\n",
        "import numpy as np\n",
        "\n",
        "# 10个类别\n",
        "classes = ('plane', 'car', 'bird', 'cat', 'deer',\n",
        "           'dog', 'frog', 'horse', 'ship', 'truck')\n",
        "\n",
        "def imshow(img):\n",
        "    img = img / 2 + 0.5 # 逆正则化\n",
        "    np_img = img.numpy() # tensor --> numpy\n",
        "    plt.imshow(np.transpose(np_img, (1, 2, 0))) # 改变通道顺序\n",
        "    plt.show()\n",
        "    \n",
        "# 随机获取一批数据\n",
        "imgs, labs = next(iter(train_loader))\n",
        "\n",
        "print(imgs.shape)\n",
        "print(labs.shape)\n",
        "\n",
        "# 调用方法\n",
        "imshow(torchvision.utils.make_grid(imgs))\n",
        "\n",
        "# 输出这批图片对应的标签\n",
        "print(' '.join('%5s' % classes[labs[i]] for i in range(BATCH_SIZE)))"
      ],
      "id": "6ae36301",
      "execution_count": 28,
      "outputs": [
        {
          "output_type": "stream",
          "name": "stderr",
          "text": [
            "/usr/local/lib/python3.7/dist-packages/torch/utils/data/dataloader.py:481: UserWarning: This DataLoader will create 16 worker processes in total. Our suggested max number of worker in current system is 2, which is smaller than what this DataLoader is going to create. Please be aware that excessive worker creation might get DataLoader running slow or even freeze, lower the worker number to avoid potential slowness/freeze if necessary.\n",
            "  cpuset_checked))\n"
          ]
        },
        {
          "output_type": "stream",
          "name": "stdout",
          "text": [
            "torch.Size([128, 3, 224, 224])\n",
            "torch.Size([128])\n"
          ]
        },
        {
          "output_type": "display_data",
          "data": {
            "image/png": "[encoded data removed]",
            "text/plain": [
              "<Figure size 432x288 with 1 Axes>"
            ]
          },
          "metadata": {
            "needs_background": "light"
          }
        },
        {
          "output_type": "stream",
          "name": "stdout",
          "text": [
            " deer  deer  bird  frog  ship plane horse  deer   car   dog   dog  frog   dog truck truck  ship truck plane  frog   dog   cat   dog  bird   cat   car plane truck   car   cat plane  ship  bird  frog  deer  deer plane truck   cat horse  ship truck   dog  ship   cat   car  bird   cat horse horse   dog plane  frog truck plane   car   cat  bird plane  ship   cat truck truck  frog  frog plane horse  frog truck  ship   dog horse truck  deer  deer  ship  ship  bird   car plane horse truck  deer   cat truck   cat truck horse   car  deer   cat   cat   car horse  frog  bird   dog  frog truck  bird   cat plane  ship   cat  frog truck   dog horse horse  frog  deer plane plane  deer   dog   car   cat truck   cat plane truck  bird  bird horse   dog  frog  ship truck   cat\n"
          ]
        }
      ]
    },
    {
      "cell_type": "code",
      "metadata": {
        "id": "21b65009"
      },
      "source": [
        "# 定义网络模型\n",
        "\n",
        "import torch.nn as nn\n",
        "import torch.nn.functional as F\n",
        "\n",
        "\"\"\"\n",
        "1. 特征图尺寸的计算公式为：[(原图片尺寸 — 卷积核尺寸) / 步长 ] + 1\n",
        "\"\"\"\n",
        "\n",
        "class AlexNet(nn.Module):\n",
        "    def __init__(self):\n",
        "        super(AlexNet, self).__init__()\n",
        "        self.features = nn.Sequential(\n",
        "            #第一层\n",
        "            nn.Conv2d(3, 96, kernel_size=11, stride=4, padding=2),  # input[3, 224, 224]  output[48, 55, 55]\n",
        "            nn.ReLU(inplace=True),\n",
        "            nn.LocalResponseNorm(size=5,alpha=0.0001,beta=0.75,k=2),\n",
        "            nn.MaxPool2d(kernel_size=3, stride=2),   # output[48, 27, 27]\n",
        "            #第二层               \n",
        "            nn.Conv2d(96, 256, kernel_size=5, padding=2),           # output[128, 27, 27]\n",
        "            nn.ReLU(inplace=True),\n",
        "            nn.LocalResponseNorm(size=5,alpha=0.0001,beta=0.75,k=2),\n",
        "            nn.MaxPool2d(kernel_size=3, stride=2),                  # output[128, 13, 13]\n",
        "            #第三层\n",
        "            nn.Conv2d(256, 384, kernel_size=3, padding=1),          # output[192, 13, 13]\n",
        "            nn.ReLU(inplace=True),\n",
        "            #第四层\n",
        "            nn.Conv2d(384, 384, kernel_size=3, padding=1),          # output[192, 13, 13]\n",
        "            nn.ReLU(inplace=True),\n",
        "            #第五层\n",
        "            nn.Conv2d(384, 256, kernel_size=3, padding=1),          # output[128, 13, 13]\n",
        "            nn.ReLU(inplace=True),\n",
        "            nn.MaxPool2d(kernel_size=3, stride=2),                  # output[128, 6, 6]\n",
        "        )\n",
        "        self.classifier= nn.Sequential(\n",
        "            nn.Dropout(p=0.5),\n",
        "            nn.Linear(256 * 6 * 6, 4096),\n",
        "            nn.ReLU(inplace=True),\n",
        "            nn.Dropout(p=0.5),\n",
        "            nn.Linear(4096, 4096),\n",
        "            nn.ReLU(inplace=True),\n",
        "            nn.Linear(4096, 10),\n",
        "        )\n",
        "    \n",
        "\n",
        "    def forward(self, x):\n",
        "        x = self.features(x)\n",
        "        x = torch.flatten(x, start_dim=1)\n",
        "        x = self.classifier(x)\n",
        "        return x\n"
      ],
      "id": "21b65009",
      "execution_count": 29,
      "outputs": []
    },
    {
      "cell_type": "code",
      "metadata": {
        "colab": {
          "base_uri": "https://localhost:8080/"
        },
        "id": "ba6c29d0",
        "outputId": "1afe61b1-0647-4eef-e3f7-c8d7a44b9c4c"
      },
      "source": [
        "# 创建模型\n",
        "net = AlexNet().cuda()\n",
        "print('Architecture:')\n",
        "print(net)"
      ],
      "id": "ba6c29d0",
      "execution_count": 30,
      "outputs": [
        {
          "output_type": "stream",
          "name": "stdout",
          "text": [
            "Architecture:\n",
            "AlexNet(\n",
            "  (features): Sequential(\n",
            "    (0): Conv2d(3, 48, kernel_size=(11, 11), stride=(4, 4), padding=(2, 2))\n",
            "    (1): ReLU(inplace=True)\n",
            "    (2): LocalResponseNorm(5, alpha=0.0001, beta=0.75, k=2)\n",
            "    (3): MaxPool2d(kernel_size=3, stride=2, padding=0, dilation=1, ceil_mode=False)\n",
            "    (4): Conv2d(48, 128, kernel_size=(5, 5), stride=(1, 1), padding=(2, 2))\n",
            "    (5): ReLU(inplace=True)\n",
            "    (6): LocalResponseNorm(5, alpha=0.0001, beta=0.75, k=2)\n",
            "    (7): MaxPool2d(kernel_size=3, stride=2, padding=0, dilation=1, ceil_mode=False)\n",
            "    (8): Conv2d(128, 192, kernel_size=(3, 3), stride=(1, 1), padding=(1, 1))\n",
            "    (9): ReLU(inplace=True)\n",
            "    (10): Conv2d(192, 192, kernel_size=(3, 3), stride=(1, 1), padding=(1, 1))\n",
            "    (11): ReLU(inplace=True)\n",
            "    (12): Conv2d(192, 128, kernel_size=(3, 3), stride=(1, 1), padding=(1, 1))\n",
            "    (13): ReLU(inplace=True)\n",
            "    (14): MaxPool2d(kernel_size=3, stride=2, padding=0, dilation=1, ceil_mode=False)\n",
            "  )\n",
            "  (classifier): Sequential(\n",
            "    (0): Dropout(p=0.5, inplace=False)\n",
            "    (1): Linear(in_features=4608, out_features=2048, bias=True)\n",
            "    (2): ReLU(inplace=True)\n",
            "    (3): Dropout(p=0.5, inplace=False)\n",
            "    (4): Linear(in_features=2048, out_features=2048, bias=True)\n",
            "    (5): ReLU(inplace=True)\n",
            "    (6): Linear(in_features=2048, out_features=10, bias=True)\n",
            "  )\n",
            ")\n"
          ]
        }
      ]
    },
    {
      "cell_type": "code",
      "metadata": {
        "id": "6663614e"
      },
      "source": [
        "# 定义优化器和损失函数\n",
        "import torch.optim as optim\n",
        "\n",
        "criterion = nn.CrossEntropyLoss() # 交叉式损失函数\n",
        "\n",
        "optimizer = optim.SGD(net.parameters(), lr=0.01, momentum=0.9) # 优化器"
      ],
      "id": "6663614e",
      "execution_count": 31,
      "outputs": []
    },
    {
      "cell_type": "code",
      "metadata": {
        "colab": {
          "base_uri": "https://localhost:8080/"
        },
        "id": "6b77a608",
        "outputId": "0c283765-b92d-4947-9817-c8aeda445c15"
      },
      "source": [
        "# 定义轮数\n",
        "EPOCHS = 30\n",
        "save_path = './AlexNet.pth'\n",
        "best_acc = 0.0\n",
        "train_steps = len(train_loader)\n",
        "for epoch in range(EPOCHS):\n",
        "    \n",
        "    train_loss = 0.0\n",
        "    for i, (datas, labels) in enumerate(train_loader):\n",
        "        datas, labels = datas.cuda(), labels.cuda()\n",
        "        # 梯度置零\n",
        "        optimizer.zero_grad()\n",
        "        # 训练\n",
        "        outputs = net(datas)\n",
        "        # 计算损失\n",
        "        loss = criterion(outputs, labels)\n",
        "        # 反向传播\n",
        "        loss.backward()\n",
        "        # 参数更新\n",
        "        optimizer.step()\n",
        "        # 累计损失\n",
        "        train_loss += loss.item()\n",
        "        \n",
        "        \n",
        "    # 打印信息\n",
        "    print(\"Epoch :%d , Batch : %5d , Loss : %.3f\"%(epoch+1, i+1, train_loss/len(train_loader.dataset)))"
      ],
      "id": "6b77a608",
      "execution_count": 32,
      "outputs": [
        {
          "output_type": "stream",
          "name": "stderr",
          "text": [
            "/usr/local/lib/python3.7/dist-packages/torch/utils/data/dataloader.py:481: UserWarning: This DataLoader will create 16 worker processes in total. Our suggested max number of worker in current system is 2, which is smaller than what this DataLoader is going to create. Please be aware that excessive worker creation might get DataLoader running slow or even freeze, lower the worker number to avoid potential slowness/freeze if necessary.\n",
            "  cpuset_checked))\n"
          ]
        },
        {
          "output_type": "stream",
          "name": "stdout",
          "text": [
            "Epoch :1 , Batch :   391 , Loss : 0.018\n",
            "Epoch :2 , Batch :   391 , Loss : 0.018\n",
            "Epoch :3 , Batch :   391 , Loss : 0.016\n",
            "Epoch :4 , Batch :   391 , Loss : 0.015\n",
            "Epoch :5 , Batch :   391 , Loss : 0.014\n",
            "Epoch :6 , Batch :   391 , Loss : 0.013\n",
            "Epoch :7 , Batch :   391 , Loss : 0.013\n",
            "Epoch :8 , Batch :   391 , Loss : 0.012\n",
            "Epoch :9 , Batch :   391 , Loss : 0.011\n",
            "Epoch :10 , Batch :   391 , Loss : 0.011\n",
            "Epoch :11 , Batch :   391 , Loss : 0.010\n",
            "Epoch :12 , Batch :   391 , Loss : 0.010\n",
            "Epoch :13 , Batch :   391 , Loss : 0.010\n",
            "Epoch :14 , Batch :   391 , Loss : 0.009\n",
            "Epoch :15 , Batch :   391 , Loss : 0.009\n",
            "Epoch :16 , Batch :   391 , Loss : 0.009\n",
            "Epoch :17 , Batch :   391 , Loss : 0.009\n",
            "Epoch :18 , Batch :   391 , Loss : 0.008\n",
            "Epoch :19 , Batch :   391 , Loss : 0.008\n",
            "Epoch :20 , Batch :   391 , Loss : 0.008\n",
            "Epoch :21 , Batch :   391 , Loss : 0.008\n",
            "Epoch :22 , Batch :   391 , Loss : 0.008\n",
            "Epoch :23 , Batch :   391 , Loss : 0.007\n",
            "Epoch :24 , Batch :   391 , Loss : 0.007\n",
            "Epoch :25 , Batch :   391 , Loss : 0.007\n",
            "Epoch :26 , Batch :   391 , Loss : 0.007\n",
            "Epoch :27 , Batch :   391 , Loss : 0.007\n",
            "Epoch :28 , Batch :   391 , Loss : 0.007\n",
            "Epoch :29 , Batch :   391 , Loss : 0.007\n",
            "Epoch :30 , Batch :   391 , Loss : 0.007\n"
          ]
        }
      ]
    },
    {
      "cell_type": "code",
      "metadata": {
        "id": "b712ee0f"
      },
      "source": [
        "# 保存模型\n",
        "PATH = './cifar_net.pth'\n",
        "\n",
        "torch.save(net.state_dict(), PATH)"
      ],
      "id": "b712ee0f",
      "execution_count": 33,
      "outputs": []
    },
    {
      "cell_type": "code",
      "metadata": {
        "colab": {
          "base_uri": "https://localhost:8080/"
        },
        "id": "8efc0caa",
        "outputId": "c1eb7d27-8789-485f-cc0b-805384b66b22"
      },
      "source": [
        "# 加载模型\n",
        "\n",
        "model = AlexNet()\n",
        "\n",
        "model.load_state_dict(torch.load(PATH)) "
      ],
      "id": "8efc0caa",
      "execution_count": 34,
      "outputs": [
        {
          "output_type": "execute_result",
          "data": {
            "text/plain": [
              "<All keys matched successfully>"
            ]
          },
          "metadata": {},
          "execution_count": 34
        }
      ]
    },
    {
      "cell_type": "code",
      "metadata": {
        "colab": {
          "base_uri": "https://localhost:8080/"
        },
        "id": "08819b7e",
        "outputId": "95d2ea16-5207-4e1e-960e-f92b8f87214f"
      },
      "source": [
        "# 测试\n",
        "correct = 0\n",
        "total = 0\n",
        "with torch.no_grad():\n",
        "    for i , (datas, labels) in enumerate(test_loader):\n",
        "        # 输出\n",
        "        outputs = model(datas) # outputs.data.shape --> torch.Size([128, 10])\n",
        "        _, predicted = torch.max(outputs.data, dim=1) # 第一个是值的张量，第二个是序号的张量\n",
        "        # 累计数据量\n",
        "        total += labels.size(0)  # labels.size() --> torch.Size([128]) , labels.size(0) --> 128\n",
        "        # 比较有多少个预测正确\n",
        "        correct += (predicted == labels).sum() # 相同为1，不同为0，利用sum()求总和\n",
        "        val_accurate = correct / total * 100\n",
        "    print(\"在10000张测试集图片上的准确率：{:.3f}%\".format(correct / total * 100))\n",
        "    \n",
        "    if val_accurate > best_acc:\n",
        "            best_acc = val_accurate\n",
        "            torch.save(net.state_dict(), save_path)\n",
        "\n",
        "    print('Finished Training')"
      ],
      "id": "08819b7e",
      "execution_count": 35,
      "outputs": [
        {
          "output_type": "stream",
          "name": "stderr",
          "text": [
            "/usr/local/lib/python3.7/dist-packages/torch/utils/data/dataloader.py:481: UserWarning: This DataLoader will create 16 worker processes in total. Our suggested max number of worker in current system is 2, which is smaller than what this DataLoader is going to create. Please be aware that excessive worker creation might get DataLoader running slow or even freeze, lower the worker number to avoid potential slowness/freeze if necessary.\n",
            "  cpuset_checked))\n"
          ]
        },
        {
          "output_type": "stream",
          "name": "stdout",
          "text": [
            "在10000张测试集图片上的准确率：68.000%\n",
            "Finished Training\n"
          ]
        }
      ]
    },
    {
      "cell_type": "code",
      "metadata": {
        "id": "83cb9e36"
      },
      "source": [
        "#plt.title('val_accurate')\n",
        "#plt.plot(itr, acc_hist_part, '-o')\n",
        "#plt.xlabel('iterations')\n",
        "#plt.ylabel('accuracy')\n",
        "#plt.gcf().set_size_inches(9, 4)\n",
        "#plt.show()"
      ],
      "id": "83cb9e36",
      "execution_count": 36,
      "outputs": []
    },
    {
      "cell_type": "code",
      "metadata": {
        "id": "03894138"
      },
      "source": [
        ""
      ],
      "id": "03894138",
      "execution_count": 36,
      "outputs": []
    }
  ]
}