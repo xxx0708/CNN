{
  "nbformat": 4,
  "nbformat_minor": 0,
  "metadata": {
    "kernelspec": {
      "display_name": "Python 3",
      "language": "python",
      "name": "python3"
    },
    "language_info": {
      "codemirror_mode": {
        "name": "ipython",
        "version": 3
      },
      "file_extension": ".py",
      "mimetype": "text/x-python",
      "name": "python",
      "nbconvert_exporter": "python",
      "pygments_lexer": "ipython3",
      "version": "3.8.6"
    },
    "colab": {
      "name": "CNN.ipynb",
      "provenance": [],
      "include_colab_link": true
    }
  },
  "cells": [
    {
      "cell_type": "markdown",
      "metadata": {
        "id": "view-in-github",
        "colab_type": "text"
      },
      "source": [
        "<a href=\"https://colab.research.google.com/github/xxx0708/CNN/blob/main/CNN.ipynb\" target=\"_parent\"><img src=\"https://colab.research.google.com/assets/colab-badge.svg\" alt=\"Open In Colab\"/></a>"
      ]
    },
    {
      "cell_type": "code",
      "metadata": {
        "id": "E_W2WwW4vOSr"
      },
      "source": [
        "# 导入包\n",
        "\n",
        "import torch\n",
        "import torch.nn as nn\n",
        "import torchvision\n",
        "from torchvision import transforms, datasets"
      ],
      "execution_count": null,
      "outputs": []
    },
    {
      "cell_type": "code",
      "metadata": {
        "id": "pn_OiDLmvOSy"
      },
      "source": [
        "# 设置transforms\n",
        "transform = transforms.Compose([\n",
        "    transforms.ToTensor(), # numpy -> Tensor\n",
        "    transforms.Normalize((0.5, 0.5, 0.5),(0.5, 0.5, 0.5)) # 归一化，范围[-1, 1]\n",
        "])"
      ],
      "execution_count": null,
      "outputs": []
    },
    {
      "cell_type": "code",
      "metadata": {
        "colab": {
          "base_uri": "https://localhost:8080/"
        },
        "id": "3rFnc3GbvOS2",
        "outputId": "5d1d493c-df9f-422a-cf17-172238acaf86"
      },
      "source": [
        "# 下载数据集\n",
        "# 训练集\n",
        "trainset = datasets.CIFAR10(root='./CIFAR10', train=True, download=True, transform=transform)\n",
        "# 测试集\n",
        "testset = datasets.CIFAR10(root='./CIFAR10', train=False, download=True, transform=transform)"
      ],
      "execution_count": null,
      "outputs": [
        {
          "output_type": "stream",
          "name": "stdout",
          "text": [
            "Files already downloaded and verified\n",
            "Files already downloaded and verified\n"
          ]
        }
      ]
    },
    {
      "cell_type": "code",
      "metadata": {
        "colab": {
          "base_uri": "https://localhost:8080/"
        },
        "id": "fKEEjdi2vOS5",
        "outputId": "b2a0aeaf-6fa5-4a27-f6b1-d2bc9f6bd4e8"
      },
      "source": [
        "# 批量读取数据\n",
        "from torch.utils.data.dataloader import DataLoader\n",
        "\n",
        "BATCH_SIZE = 12\n",
        "\n",
        "train_loader = DataLoader(trainset, batch_size=BATCH_SIZE, shuffle=True, num_workers=16, pin_memory=True)\n",
        "\n",
        "test_loader = DataLoader(testset, batch_size=BATCH_SIZE, shuffle=True, num_workers=16, pin_memory=True)"
      ],
      "execution_count": null,
      "outputs": [
        {
          "output_type": "stream",
          "name": "stderr",
          "text": [
            "/usr/local/lib/python3.7/dist-packages/torch/utils/data/dataloader.py:481: UserWarning: This DataLoader will create 16 worker processes in total. Our suggested max number of worker in current system is 2, which is smaller than what this DataLoader is going to create. Please be aware that excessive worker creation might get DataLoader running slow or even freeze, lower the worker number to avoid potential slowness/freeze if necessary.\n",
            "  cpuset_checked))\n"
          ]
        }
      ]
    },
    {
      "cell_type": "code",
      "metadata": {
        "colab": {
          "base_uri": "https://localhost:8080/",
          "height": 247
        },
        "id": "b1ifOaf2vOS8",
        "outputId": "620780a5-08bf-4f41-8cda-cec3d01be160"
      },
      "source": [
        "# 可视化显示\n",
        "import matplotlib.pyplot as plt\n",
        "import numpy as np\n",
        "\n",
        "# 10个类别\n",
        "classes = ('plane', 'car', 'bird', 'cat', 'deer',\n",
        "           'dog', 'frog', 'horse', 'ship', 'truck')\n",
        "\n",
        "def imshow(img):\n",
        "    img = img / 2 + 0.5 # 逆正则化\n",
        "    np_img = img.numpy() # tensor --> numpy\n",
        "    plt.imshow(np.transpose(np_img, (1, 2, 0))) # 改变通道顺序\n",
        "    plt.show()\n",
        "    \n",
        "# 随机获取一批数据\n",
        "imgs, labs = next(iter(train_loader))\n",
        "\n",
        "print(imgs.shape)\n",
        "print(labs.shape)\n",
        "\n",
        "# 调用方法\n",
        "imshow(torchvision.utils.make_grid(imgs))\n",
        "\n",
        "# 输出这批图片对应的标签\n",
        "print(' '.join('%5s' % classes[labs[i]] for i in range(BATCH_SIZE)))"
      ],
      "execution_count": null,
      "outputs": [
        {
          "output_type": "stream",
          "name": "stderr",
          "text": [
            "/usr/local/lib/python3.7/dist-packages/torch/utils/data/dataloader.py:481: UserWarning: This DataLoader will create 16 worker processes in total. Our suggested max number of worker in current system is 2, which is smaller than what this DataLoader is going to create. Please be aware that excessive worker creation might get DataLoader running slow or even freeze, lower the worker number to avoid potential slowness/freeze if necessary.\n",
            "  cpuset_checked))\n"
          ]
        },
        {
          "output_type": "stream",
          "name": "stdout",
          "text": [
            "torch.Size([12, 3, 32, 32])\n",
            "torch.Size([12])\n"
          ]
        },
        {
          "output_type": "display_data",
          "data": {
            "image/png": "[encoded data removed]",
            "text/plain": [
              "<Figure size 432x288 with 1 Axes>"
            ]
          },
          "metadata": {
            "needs_background": "light"
          }
        },
        {
          "output_type": "stream",
          "name": "stdout",
          "text": [
            " ship   cat  deer  bird plane   cat plane   dog   dog truck   car   car\n"
          ]
        }
      ]
    },
    {
      "cell_type": "code",
      "metadata": {
        "id": "7Ej2HnQPvOS-"
      },
      "source": [
        "# 定义网络模型\n",
        "\n",
        "import torch.nn as nn\n",
        "import torch.nn.functional as F\n",
        "\n",
        "\"\"\"\n",
        "1. 特征图尺寸的计算公式为：[(原图片尺寸 — 卷积核尺寸) / 步长 ] + 1\n",
        "\"\"\"\n",
        "class Net(nn.Module):\n",
        "    def __init__(self):\n",
        "        super(Net, self).__init__()\n",
        "        # 卷积层1， 输入是32*32*3，计算（32-5）/ 1 + 1 = 28，那么通过conv1输出的结果是28*28*6\n",
        "        self.conv1 = nn.Conv2d(3, 6, 5) # input:3, output:6, kernel:5\n",
        "        # 池化层，  输入是28*28*6，窗口2*2，计算28 / 2 = 14，那么通过max_pool1层输出结果是14*14*6\n",
        "        self.pool = nn.MaxPool2d(2, 2) # kernel:2, stride:2\n",
        "        # 卷积层2， 输入是14*14*6，计算（14 - 5）/ 1 + 1 = 10，那么通过conv2输出的结果是10*10*16\n",
        "        self.conv2 = nn.Conv2d(6, 16, 5) # input:6, output:16, kernel:5\n",
        "        # 池化层，  输入是10*10*16，窗口2*2，计算10 / 2 = 5，那么通过max_pool1层输出结果是5*5*6\n",
        "        #self.pool = nn.MaxPool2d(2, 2) # kernel:2, stride:2\n",
        "        # 卷积层3， 输入是5*5*6，计算（10 - 5）/ 1 + 1 = 6，那么通过conv2输出的结果是6*6*32\n",
        "        self.conv3= nn.Conv2d(16, 32, 5)#input:16,output:32,kernel:5\n",
        "        #w=10*10*32 ,120\n",
        "        # 全连接层1\n",
        "        self.fc1 = nn.Linear(6*6*32, 120) # input:6*6*32, output:120\n",
        "        # 全连接层2\n",
        "        self.fc2 = nn.Linear(120, 10) # input:120, output:10\n",
        "        \n",
        "    def forward(self, x):\n",
        "        # 卷积1 \n",
        "        x = self.pool(F.relu(self.conv1(x)))\n",
        "        # 卷积2\n",
        "        x = F.relu(self.conv2(x))\n",
        "        x = F.relu(self.conv3(x))\n",
        "        # 改变shape\n",
        "        x = x.view(-1, 32*6*6)\n",
        "        # 全连接层1\n",
        "        x = F.relu(self.fc1(x))\n",
        "        # 全连接层2\n",
        "        x = self.fc2(x)\n",
        "        return x"
      ],
      "execution_count": null,
      "outputs": []
    },
    {
      "cell_type": "code",
      "metadata": {
        "id": "Aqx6agQWvOS_"
      },
      "source": [
        "# 创建模型\n",
        "net = Net()"
      ],
      "execution_count": null,
      "outputs": []
    },
    {
      "cell_type": "code",
      "metadata": {
        "id": "qtatWmt9vOTB"
      },
      "source": [
        "# 定义优化器和损失函数\n",
        "import torch.optim as optim\n",
        "\n",
        "criterion = nn.CrossEntropyLoss() # 交叉式损失函数\n",
        "\n",
        "optimizer = optim.SGD(net.parameters(), lr=0.001, momentum=0.9) # 优化器"
      ],
      "execution_count": null,
      "outputs": []
    },
    {
      "cell_type": "code",
      "metadata": {
        "scrolled": true,
        "colab": {
          "base_uri": "https://localhost:8080/"
        },
        "id": "1TmyI8jHvOTD",
        "outputId": "89912e48-f3ca-45c5-9092-a80376af0d8f"
      },
      "source": [
        "# 定义轮数\n",
        "EPOCHS = 20\n",
        "\n",
        "for epoch in range(EPOCHS):\n",
        "    \n",
        "    train_loss = 0.0\n",
        "    for i, (datas, labels) in enumerate(train_loader):\n",
        "        datas, labels = datas, labels\n",
        "        # 梯度置零\n",
        "        optimizer.zero_grad()\n",
        "        # 训练\n",
        "        outputs = net(datas)\n",
        "        # 计算损失\n",
        "        loss = criterion(outputs, labels)\n",
        "        # 反向传播\n",
        "        loss.backward()\n",
        "        # 参数更新\n",
        "        optimizer.step()\n",
        "        # 累计损失\n",
        "        train_loss += loss.item()\n",
        "    # 打印信息\n",
        "    print(\"Epoch :%d , Batch : %5d , Loss : %.3f\"%(epoch+1, i+1, train_loss/len(train_loader.dataset)))"
      ],
      "execution_count": null,
      "outputs": [
        {
          "output_type": "stream",
          "name": "stderr",
          "text": [
            "/usr/local/lib/python3.7/dist-packages/torch/utils/data/dataloader.py:481: UserWarning: This DataLoader will create 16 worker processes in total. Our suggested max number of worker in current system is 2, which is smaller than what this DataLoader is going to create. Please be aware that excessive worker creation might get DataLoader running slow or even freeze, lower the worker number to avoid potential slowness/freeze if necessary.\n",
            "  cpuset_checked))\n",
            "/usr/local/lib/python3.7/dist-packages/torch/nn/functional.py:718: UserWarning: Named tensors and all their associated APIs are an experimental feature and subject to change. Please do not use them for anything important until they are released as stable. (Triggered internally at  /pytorch/c10/core/TensorImpl.h:1156.)\n",
            "  return torch.max_pool2d(input, kernel_size, stride, padding, dilation, ceil_mode)\n"
          ]
        },
        {
          "output_type": "stream",
          "name": "stdout",
          "text": [
            "Epoch :1 , Batch :  4167 , Loss : 0.156\n",
            "Epoch :2 , Batch :  4167 , Loss : 0.122\n",
            "Epoch :3 , Batch :  4167 , Loss : 0.110\n",
            "Epoch :4 , Batch :  4167 , Loss : 0.101\n",
            "Epoch :5 , Batch :  4167 , Loss : 0.094\n",
            "Epoch :6 , Batch :  4167 , Loss : 0.088\n",
            "Epoch :7 , Batch :  4167 , Loss : 0.084\n",
            "Epoch :8 , Batch :  4167 , Loss : 0.079\n",
            "Epoch :9 , Batch :  4167 , Loss : 0.075\n",
            "Epoch :10 , Batch :  4167 , Loss : 0.072\n",
            "Epoch :11 , Batch :  4167 , Loss : 0.068\n",
            "Epoch :12 , Batch :  4167 , Loss : 0.064\n",
            "Epoch :13 , Batch :  4167 , Loss : 0.061\n",
            "Epoch :14 , Batch :  4167 , Loss : 0.057\n",
            "Epoch :15 , Batch :  4167 , Loss : 0.054\n",
            "Epoch :16 , Batch :  4167 , Loss : 0.051\n",
            "Epoch :17 , Batch :  4167 , Loss : 0.048\n",
            "Epoch :18 , Batch :  4167 , Loss : 0.045\n",
            "Epoch :19 , Batch :  4167 , Loss : 0.043\n",
            "Epoch :20 , Batch :  4167 , Loss : 0.040\n"
          ]
        }
      ]
    },
    {
      "cell_type": "code",
      "metadata": {
        "id": "T2JjgtzIvOTH"
      },
      "source": [
        "# 保存模型\n",
        "PATH = './cifar_net.pth'\n",
        "\n",
        "torch.save(net.state_dict(), PATH)"
      ],
      "execution_count": null,
      "outputs": []
    },
    {
      "cell_type": "code",
      "metadata": {
        "colab": {
          "base_uri": "https://localhost:8080/"
        },
        "id": "fFpayJYCvOTI",
        "outputId": "78e07269-13aa-44ab-af11-143cfa6e985e"
      },
      "source": [
        "# 加载模型\n",
        "\n",
        "model = Net()\n",
        "\n",
        "model.load_state_dict(torch.load(PATH)) "
      ],
      "execution_count": null,
      "outputs": [
        {
          "output_type": "execute_result",
          "data": {
            "text/plain": [
              "<All keys matched successfully>"
            ]
          },
          "metadata": {},
          "execution_count": 21
        }
      ]
    },
    {
      "cell_type": "code",
      "metadata": {
        "colab": {
          "base_uri": "https://localhost:8080/"
        },
        "id": "TsPDdY_KvOTJ",
        "outputId": "6fc6139c-9e27-4f47-8048-cd4c7a8f8baa"
      },
      "source": [
        "# 测试\n",
        "correct = 0\n",
        "total = 0\n",
        "with torch.no_grad():\n",
        "    for i , (datas, labels) in enumerate(test_loader):\n",
        "        # 输出\n",
        "        outputs = model(datas) # outputs.data.shape --> torch.Size([128, 10])\n",
        "        _, predicted = torch.max(outputs.data, dim=1) # 第一个是值的张量，第二个是序号的张量\n",
        "        # 累计数据量\n",
        "        total += labels.size(0)  # labels.size() --> torch.Size([128]) , labels.size(0) --> 128\n",
        "        # 比较有多少个预测正确\n",
        "        correct += (predicted == labels).sum() # 相同为1，不同为0，利用sum()求总和\n",
        "    print(\"在10000张测试集图片上的准确率：{:.3f}%\".format(correct / total * 100))"
      ],
      "execution_count": null,
      "outputs": [
        {
          "output_type": "stream",
          "name": "stderr",
          "text": [
            "/usr/local/lib/python3.7/dist-packages/torch/utils/data/dataloader.py:481: UserWarning: This DataLoader will create 16 worker processes in total. Our suggested max number of worker in current system is 2, which is smaller than what this DataLoader is going to create. Please be aware that excessive worker creation might get DataLoader running slow or even freeze, lower the worker number to avoid potential slowness/freeze if necessary.\n",
            "  cpuset_checked))\n"
          ]
        },
        {
          "output_type": "stream",
          "name": "stdout",
          "text": [
            "在10000张测试集图片上的准确率：60.130%\n"
          ]
        }
      ]
    }
  ]
}